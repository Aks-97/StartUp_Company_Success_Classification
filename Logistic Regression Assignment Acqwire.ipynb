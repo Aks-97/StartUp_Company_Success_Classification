{
 "cells": [
  {
   "cell_type": "code",
   "execution_count": 20,
   "metadata": {},
   "outputs": [],
   "source": [
    "import pandas as pd\n",
    "import matplotlib.pyplot as plt\n",
    "import numpy as np\n",
    "from sklearn.preprocessing import LabelEncoder\n",
    "from sklearn import preprocessing\n",
    "plt.rc(\"font\", size=14)\n",
    "from sklearn.linear_model import LogisticRegression\n",
    "from sklearn.model_selection import train_test_split\n",
    "import seaborn as sns\n",
    "from sklearn.model_selection import train_test_split, cross_val_score\n",
    "from sklearn.metrics import accuracy_score, classification_report, precision_score, recall_score \n",
    "from sklearn.metrics import confusion_matrix, precision_recall_curve, roc_curve, auc, log_loss"
   ]
  },
  {
   "cell_type": "code",
   "execution_count": 21,
   "metadata": {},
   "outputs": [
    {
     "data": {
      "text/html": [
       "<div>\n",
       "<style scoped>\n",
       "    .dataframe tbody tr th:only-of-type {\n",
       "        vertical-align: middle;\n",
       "    }\n",
       "\n",
       "    .dataframe tbody tr th {\n",
       "        vertical-align: top;\n",
       "    }\n",
       "\n",
       "    .dataframe thead th {\n",
       "        text-align: right;\n",
       "    }\n",
       "</style>\n",
       "<table border=\"1\" class=\"dataframe\">\n",
       "  <thead>\n",
       "    <tr style=\"text-align: right;\">\n",
       "      <th></th>\n",
       "      <th>CAX_ID</th>\n",
       "      <th>Dependent</th>\n",
       "      <th>Company_Location</th>\n",
       "      <th>Company_raising_fund</th>\n",
       "      <th>Company_Industry_count</th>\n",
       "      <th>Company_mobile_app</th>\n",
       "      <th>Company_investor_count_seed</th>\n",
       "      <th>Company_investor_count_Angel_VC</th>\n",
       "      <th>Company_cofounders_count</th>\n",
       "      <th>Company_advisors_count</th>\n",
       "      <th>...</th>\n",
       "      <th>Company_avg_investment_time</th>\n",
       "      <th>Company_crowdsourcing</th>\n",
       "      <th>Company_crowdfunding</th>\n",
       "      <th>Company_big_data</th>\n",
       "      <th>Company_analytics_score</th>\n",
       "      <th>Company_Product_or_service</th>\n",
       "      <th>Company_subscription_offering</th>\n",
       "      <th>Founder_highest_degree_type</th>\n",
       "      <th>Company_difficulty_obtaining_workforce</th>\n",
       "      <th>Company_Founder_Patent</th>\n",
       "    </tr>\n",
       "  </thead>\n",
       "  <tbody>\n",
       "    <tr>\n",
       "      <th>0</th>\n",
       "      <td>Company2</td>\n",
       "      <td>1</td>\n",
       "      <td>USA</td>\n",
       "      <td>No</td>\n",
       "      <td>Few</td>\n",
       "      <td>Yes</td>\n",
       "      <td>5</td>\n",
       "      <td>0</td>\n",
       "      <td>2</td>\n",
       "      <td>0</td>\n",
       "      <td>...</td>\n",
       "      <td>9.000000</td>\n",
       "      <td>Yes</td>\n",
       "      <td>No</td>\n",
       "      <td>No</td>\n",
       "      <td>2</td>\n",
       "      <td>Product</td>\n",
       "      <td>No</td>\n",
       "      <td>Management</td>\n",
       "      <td>Medium</td>\n",
       "      <td>Yes</td>\n",
       "    </tr>\n",
       "    <tr>\n",
       "      <th>1</th>\n",
       "      <td>Company3</td>\n",
       "      <td>1</td>\n",
       "      <td>USA</td>\n",
       "      <td>No</td>\n",
       "      <td>Few</td>\n",
       "      <td>No</td>\n",
       "      <td>15</td>\n",
       "      <td>0</td>\n",
       "      <td>3</td>\n",
       "      <td>0</td>\n",
       "      <td>...</td>\n",
       "      <td>7.344444</td>\n",
       "      <td>No</td>\n",
       "      <td>No</td>\n",
       "      <td>No</td>\n",
       "      <td>1</td>\n",
       "      <td>Both</td>\n",
       "      <td>Yes</td>\n",
       "      <td>Science</td>\n",
       "      <td>Medium</td>\n",
       "      <td>Yes</td>\n",
       "    </tr>\n",
       "    <tr>\n",
       "      <th>2</th>\n",
       "      <td>Company5</td>\n",
       "      <td>1</td>\n",
       "      <td>USA</td>\n",
       "      <td>No</td>\n",
       "      <td>Few</td>\n",
       "      <td>No</td>\n",
       "      <td>7</td>\n",
       "      <td>0</td>\n",
       "      <td>1</td>\n",
       "      <td>1</td>\n",
       "      <td>...</td>\n",
       "      <td>9.822222</td>\n",
       "      <td>No</td>\n",
       "      <td>No</td>\n",
       "      <td>No</td>\n",
       "      <td>0</td>\n",
       "      <td>Product</td>\n",
       "      <td>No</td>\n",
       "      <td>Technology</td>\n",
       "      <td>Medium</td>\n",
       "      <td>Yes</td>\n",
       "    </tr>\n",
       "    <tr>\n",
       "      <th>3</th>\n",
       "      <td>Company6</td>\n",
       "      <td>1</td>\n",
       "      <td>USA</td>\n",
       "      <td>No</td>\n",
       "      <td>Few</td>\n",
       "      <td>No</td>\n",
       "      <td>2</td>\n",
       "      <td>0</td>\n",
       "      <td>4</td>\n",
       "      <td>0</td>\n",
       "      <td>...</td>\n",
       "      <td>9.322222</td>\n",
       "      <td>No</td>\n",
       "      <td>No</td>\n",
       "      <td>No</td>\n",
       "      <td>0</td>\n",
       "      <td>Service</td>\n",
       "      <td>No</td>\n",
       "      <td>Science</td>\n",
       "      <td>Medium</td>\n",
       "      <td>Yes</td>\n",
       "    </tr>\n",
       "    <tr>\n",
       "      <th>4</th>\n",
       "      <td>Company8</td>\n",
       "      <td>1</td>\n",
       "      <td>USA</td>\n",
       "      <td>No</td>\n",
       "      <td>Few</td>\n",
       "      <td>No</td>\n",
       "      <td>0</td>\n",
       "      <td>0</td>\n",
       "      <td>3</td>\n",
       "      <td>4</td>\n",
       "      <td>...</td>\n",
       "      <td>6.400000</td>\n",
       "      <td>No</td>\n",
       "      <td>No</td>\n",
       "      <td>No</td>\n",
       "      <td>2</td>\n",
       "      <td>Both</td>\n",
       "      <td>No</td>\n",
       "      <td>Management</td>\n",
       "      <td>Medium</td>\n",
       "      <td>No</td>\n",
       "    </tr>\n",
       "    <tr>\n",
       "      <th>5</th>\n",
       "      <td>Company9</td>\n",
       "      <td>1</td>\n",
       "      <td>USA</td>\n",
       "      <td>No</td>\n",
       "      <td>Few</td>\n",
       "      <td>No</td>\n",
       "      <td>13</td>\n",
       "      <td>0</td>\n",
       "      <td>2</td>\n",
       "      <td>0</td>\n",
       "      <td>...</td>\n",
       "      <td>12.000000</td>\n",
       "      <td>Yes</td>\n",
       "      <td>No</td>\n",
       "      <td>No</td>\n",
       "      <td>0</td>\n",
       "      <td>Product</td>\n",
       "      <td>No</td>\n",
       "      <td>Management</td>\n",
       "      <td>Medium</td>\n",
       "      <td>Yes</td>\n",
       "    </tr>\n",
       "    <tr>\n",
       "      <th>6</th>\n",
       "      <td>Company11</td>\n",
       "      <td>1</td>\n",
       "      <td>USA</td>\n",
       "      <td>No</td>\n",
       "      <td>Few</td>\n",
       "      <td>No</td>\n",
       "      <td>0</td>\n",
       "      <td>0</td>\n",
       "      <td>2</td>\n",
       "      <td>1</td>\n",
       "      <td>...</td>\n",
       "      <td>2.666667</td>\n",
       "      <td>No</td>\n",
       "      <td>No</td>\n",
       "      <td>No</td>\n",
       "      <td>0</td>\n",
       "      <td>Both</td>\n",
       "      <td>No</td>\n",
       "      <td>Science</td>\n",
       "      <td>Medium</td>\n",
       "      <td>Yes</td>\n",
       "    </tr>\n",
       "    <tr>\n",
       "      <th>7</th>\n",
       "      <td>Company13</td>\n",
       "      <td>1</td>\n",
       "      <td>USA</td>\n",
       "      <td>No</td>\n",
       "      <td>Few</td>\n",
       "      <td>No</td>\n",
       "      <td>0</td>\n",
       "      <td>0</td>\n",
       "      <td>0</td>\n",
       "      <td>1</td>\n",
       "      <td>...</td>\n",
       "      <td>6.000000</td>\n",
       "      <td>No</td>\n",
       "      <td>No</td>\n",
       "      <td>No</td>\n",
       "      <td>0</td>\n",
       "      <td>Product</td>\n",
       "      <td>No</td>\n",
       "      <td>Science</td>\n",
       "      <td>Medium</td>\n",
       "      <td>Yes</td>\n",
       "    </tr>\n",
       "    <tr>\n",
       "      <th>8</th>\n",
       "      <td>Company14</td>\n",
       "      <td>1</td>\n",
       "      <td>USA</td>\n",
       "      <td>No</td>\n",
       "      <td>Few</td>\n",
       "      <td>No</td>\n",
       "      <td>0</td>\n",
       "      <td>0</td>\n",
       "      <td>3</td>\n",
       "      <td>0</td>\n",
       "      <td>...</td>\n",
       "      <td>7.333333</td>\n",
       "      <td>No</td>\n",
       "      <td>No</td>\n",
       "      <td>No</td>\n",
       "      <td>0</td>\n",
       "      <td>Product</td>\n",
       "      <td>Yes</td>\n",
       "      <td>Science</td>\n",
       "      <td>Medium</td>\n",
       "      <td>No</td>\n",
       "    </tr>\n",
       "    <tr>\n",
       "      <th>9</th>\n",
       "      <td>Company15</td>\n",
       "      <td>0</td>\n",
       "      <td>USA</td>\n",
       "      <td>No</td>\n",
       "      <td>Few</td>\n",
       "      <td>No</td>\n",
       "      <td>0</td>\n",
       "      <td>2</td>\n",
       "      <td>2</td>\n",
       "      <td>0</td>\n",
       "      <td>...</td>\n",
       "      <td>48.000000</td>\n",
       "      <td>No</td>\n",
       "      <td>No</td>\n",
       "      <td>No</td>\n",
       "      <td>2</td>\n",
       "      <td>Product</td>\n",
       "      <td>No</td>\n",
       "      <td>Management</td>\n",
       "      <td>Medium</td>\n",
       "      <td>Yes</td>\n",
       "    </tr>\n",
       "    <tr>\n",
       "      <th>10</th>\n",
       "      <td>Company16</td>\n",
       "      <td>1</td>\n",
       "      <td>USA</td>\n",
       "      <td>No</td>\n",
       "      <td>Few</td>\n",
       "      <td>No</td>\n",
       "      <td>0</td>\n",
       "      <td>0</td>\n",
       "      <td>2</td>\n",
       "      <td>0</td>\n",
       "      <td>...</td>\n",
       "      <td>8.000000</td>\n",
       "      <td>No</td>\n",
       "      <td>No</td>\n",
       "      <td>No</td>\n",
       "      <td>1</td>\n",
       "      <td>Both</td>\n",
       "      <td>No</td>\n",
       "      <td>Management</td>\n",
       "      <td>Medium</td>\n",
       "      <td>No</td>\n",
       "    </tr>\n",
       "    <tr>\n",
       "      <th>11</th>\n",
       "      <td>Company17</td>\n",
       "      <td>1</td>\n",
       "      <td>USA</td>\n",
       "      <td>No</td>\n",
       "      <td>single</td>\n",
       "      <td>No</td>\n",
       "      <td>0</td>\n",
       "      <td>3</td>\n",
       "      <td>1</td>\n",
       "      <td>0</td>\n",
       "      <td>...</td>\n",
       "      <td>11.066667</td>\n",
       "      <td>No</td>\n",
       "      <td>No</td>\n",
       "      <td>No</td>\n",
       "      <td>1</td>\n",
       "      <td>Product</td>\n",
       "      <td>No</td>\n",
       "      <td>Technology</td>\n",
       "      <td>Medium</td>\n",
       "      <td>Yes</td>\n",
       "    </tr>\n",
       "    <tr>\n",
       "      <th>12</th>\n",
       "      <td>Company18</td>\n",
       "      <td>1</td>\n",
       "      <td>USA</td>\n",
       "      <td>No</td>\n",
       "      <td>single</td>\n",
       "      <td>No</td>\n",
       "      <td>0</td>\n",
       "      <td>0</td>\n",
       "      <td>3</td>\n",
       "      <td>0</td>\n",
       "      <td>...</td>\n",
       "      <td>12.616667</td>\n",
       "      <td>No</td>\n",
       "      <td>No</td>\n",
       "      <td>No</td>\n",
       "      <td>3</td>\n",
       "      <td>Both</td>\n",
       "      <td>No</td>\n",
       "      <td>Technology</td>\n",
       "      <td>Medium</td>\n",
       "      <td>Yes</td>\n",
       "    </tr>\n",
       "    <tr>\n",
       "      <th>13</th>\n",
       "      <td>Company19</td>\n",
       "      <td>1</td>\n",
       "      <td>USA</td>\n",
       "      <td>No</td>\n",
       "      <td>single</td>\n",
       "      <td>No</td>\n",
       "      <td>0</td>\n",
       "      <td>3</td>\n",
       "      <td>0</td>\n",
       "      <td>0</td>\n",
       "      <td>...</td>\n",
       "      <td>24.625000</td>\n",
       "      <td>No</td>\n",
       "      <td>No</td>\n",
       "      <td>No</td>\n",
       "      <td>1</td>\n",
       "      <td>Both</td>\n",
       "      <td>No</td>\n",
       "      <td>Management</td>\n",
       "      <td>High</td>\n",
       "      <td>Yes</td>\n",
       "    </tr>\n",
       "    <tr>\n",
       "      <th>14</th>\n",
       "      <td>Company20</td>\n",
       "      <td>0</td>\n",
       "      <td>USA</td>\n",
       "      <td>No</td>\n",
       "      <td>Few</td>\n",
       "      <td>No</td>\n",
       "      <td>0</td>\n",
       "      <td>6</td>\n",
       "      <td>2</td>\n",
       "      <td>0</td>\n",
       "      <td>...</td>\n",
       "      <td>5.455556</td>\n",
       "      <td>No</td>\n",
       "      <td>No</td>\n",
       "      <td>No</td>\n",
       "      <td>1</td>\n",
       "      <td>Product</td>\n",
       "      <td>No</td>\n",
       "      <td>Technology</td>\n",
       "      <td>High</td>\n",
       "      <td>No</td>\n",
       "    </tr>\n",
       "  </tbody>\n",
       "</table>\n",
       "<p>15 rows × 51 columns</p>\n",
       "</div>"
      ],
      "text/plain": [
       "       CAX_ID  Dependent Company_Location Company_raising_fund  \\\n",
       "0    Company2          1              USA                   No   \n",
       "1    Company3          1              USA                   No   \n",
       "2    Company5          1              USA                   No   \n",
       "3    Company6          1              USA                   No   \n",
       "4    Company8          1              USA                   No   \n",
       "5    Company9          1              USA                   No   \n",
       "6   Company11          1              USA                   No   \n",
       "7   Company13          1              USA                   No   \n",
       "8   Company14          1              USA                   No   \n",
       "9   Company15          0              USA                   No   \n",
       "10  Company16          1              USA                   No   \n",
       "11  Company17          1              USA                   No   \n",
       "12  Company18          1              USA                   No   \n",
       "13  Company19          1              USA                   No   \n",
       "14  Company20          0              USA                   No   \n",
       "\n",
       "   Company_Industry_count Company_mobile_app  Company_investor_count_seed  \\\n",
       "0                     Few                Yes                            5   \n",
       "1                     Few                 No                           15   \n",
       "2                     Few                 No                            7   \n",
       "3                     Few                 No                            2   \n",
       "4                     Few                 No                            0   \n",
       "5                     Few                 No                           13   \n",
       "6                     Few                 No                            0   \n",
       "7                     Few                 No                            0   \n",
       "8                     Few                 No                            0   \n",
       "9                     Few                 No                            0   \n",
       "10                    Few                 No                            0   \n",
       "11                 single                 No                            0   \n",
       "12                 single                 No                            0   \n",
       "13                 single                 No                            0   \n",
       "14                    Few                 No                            0   \n",
       "\n",
       "    Company_investor_count_Angel_VC  Company_cofounders_count  \\\n",
       "0                                 0                         2   \n",
       "1                                 0                         3   \n",
       "2                                 0                         1   \n",
       "3                                 0                         4   \n",
       "4                                 0                         3   \n",
       "5                                 0                         2   \n",
       "6                                 0                         2   \n",
       "7                                 0                         0   \n",
       "8                                 0                         3   \n",
       "9                                 2                         2   \n",
       "10                                0                         2   \n",
       "11                                3                         1   \n",
       "12                                0                         3   \n",
       "13                                3                         0   \n",
       "14                                6                         2   \n",
       "\n",
       "    Company_advisors_count          ...            \\\n",
       "0                        0          ...             \n",
       "1                        0          ...             \n",
       "2                        1          ...             \n",
       "3                        0          ...             \n",
       "4                        4          ...             \n",
       "5                        0          ...             \n",
       "6                        1          ...             \n",
       "7                        1          ...             \n",
       "8                        0          ...             \n",
       "9                        0          ...             \n",
       "10                       0          ...             \n",
       "11                       0          ...             \n",
       "12                       0          ...             \n",
       "13                       0          ...             \n",
       "14                       0          ...             \n",
       "\n",
       "    Company_avg_investment_time Company_crowdsourcing  Company_crowdfunding  \\\n",
       "0                      9.000000                   Yes                    No   \n",
       "1                      7.344444                    No                    No   \n",
       "2                      9.822222                    No                    No   \n",
       "3                      9.322222                    No                    No   \n",
       "4                      6.400000                    No                    No   \n",
       "5                     12.000000                   Yes                    No   \n",
       "6                      2.666667                    No                    No   \n",
       "7                      6.000000                    No                    No   \n",
       "8                      7.333333                    No                    No   \n",
       "9                     48.000000                    No                    No   \n",
       "10                     8.000000                    No                    No   \n",
       "11                    11.066667                    No                    No   \n",
       "12                    12.616667                    No                    No   \n",
       "13                    24.625000                    No                    No   \n",
       "14                     5.455556                    No                    No   \n",
       "\n",
       "   Company_big_data Company_analytics_score Company_Product_or_service  \\\n",
       "0                No                       2                    Product   \n",
       "1                No                       1                       Both   \n",
       "2                No                       0                    Product   \n",
       "3                No                       0                    Service   \n",
       "4                No                       2                       Both   \n",
       "5                No                       0                    Product   \n",
       "6                No                       0                       Both   \n",
       "7                No                       0                    Product   \n",
       "8                No                       0                    Product   \n",
       "9                No                       2                    Product   \n",
       "10               No                       1                       Both   \n",
       "11               No                       1                    Product   \n",
       "12               No                       3                       Both   \n",
       "13               No                       1                       Both   \n",
       "14               No                       1                    Product   \n",
       "\n",
       "   Company_subscription_offering Founder_highest_degree_type  \\\n",
       "0                             No                  Management   \n",
       "1                            Yes                     Science   \n",
       "2                             No                  Technology   \n",
       "3                             No                     Science   \n",
       "4                             No                  Management   \n",
       "5                             No                  Management   \n",
       "6                             No                     Science   \n",
       "7                             No                     Science   \n",
       "8                            Yes                     Science   \n",
       "9                             No                  Management   \n",
       "10                            No                  Management   \n",
       "11                            No                  Technology   \n",
       "12                            No                  Technology   \n",
       "13                            No                  Management   \n",
       "14                            No                  Technology   \n",
       "\n",
       "   Company_difficulty_obtaining_workforce Company_Founder_Patent  \n",
       "0                                  Medium                    Yes  \n",
       "1                                  Medium                    Yes  \n",
       "2                                  Medium                    Yes  \n",
       "3                                  Medium                    Yes  \n",
       "4                                  Medium                     No  \n",
       "5                                  Medium                    Yes  \n",
       "6                                  Medium                    Yes  \n",
       "7                                  Medium                    Yes  \n",
       "8                                  Medium                     No  \n",
       "9                                  Medium                    Yes  \n",
       "10                                 Medium                     No  \n",
       "11                                 Medium                    Yes  \n",
       "12                                 Medium                    Yes  \n",
       "13                                   High                    Yes  \n",
       "14                                   High                     No  \n",
       "\n",
       "[15 rows x 51 columns]"
      ]
     },
     "execution_count": 21,
     "metadata": {},
     "output_type": "execute_result"
    }
   ],
   "source": [
    "train=pd.read_csv(\"TrainData.csv\")\n",
    "test=pd.read_csv(\"TestData.csv\")\n",
    "test1=test.copy()\n",
    "train.head(15)"
   ]
  },
  {
   "cell_type": "code",
   "execution_count": 22,
   "metadata": {},
   "outputs": [],
   "source": [
    "c=train.columns"
   ]
  },
  {
   "cell_type": "code",
   "execution_count": 23,
   "metadata": {},
   "outputs": [
    {
     "name": "stdout",
     "output_type": "stream",
     "text": [
      "<class 'pandas.core.frame.DataFrame'>\n",
      "RangeIndex: 234 entries, 0 to 233\n",
      "Data columns (total 51 columns):\n",
      "CAX_ID                                      234 non-null object\n",
      "Dependent                                   234 non-null int64\n",
      "Company_Location                            234 non-null object\n",
      "Company_raising_fund                        234 non-null object\n",
      "Company_Industry_count                      234 non-null object\n",
      "Company_mobile_app                          234 non-null object\n",
      "Company_investor_count_seed                 234 non-null int64\n",
      "Company_investor_count_Angel_VC             234 non-null int64\n",
      "Company_cofounders_count                    234 non-null int64\n",
      "Company_advisors_count                      234 non-null int64\n",
      "Company_senior_team_count                   234 non-null int64\n",
      "Company_top_Angel_VC_funding                234 non-null object\n",
      "Company_repeat_investors_count              234 non-null int64\n",
      "Founders_top_company_experience             234 non-null object\n",
      "Founders_previous_company_employee_count    234 non-null object\n",
      "Founders_startup_experience                 234 non-null object\n",
      "Founders_big_5_experience                   234 non-null object\n",
      "Company_business_model                      234 non-null object\n",
      "Founders_experience                         234 non-null object\n",
      "Founders_global_exposure                    234 non-null object\n",
      "Founders_Industry_exposure                  234 non-null object\n",
      "Founder_education                           234 non-null object\n",
      "Founder_university_quality                  234 non-null int64\n",
      "Founders_Popularity                         234 non-null int64\n",
      "Founders_fortune1000_company_score          234 non-null float64\n",
      "Founders_profile_similarity                 234 non-null object\n",
      "Founders_publications                       234 non-null object\n",
      "Founders_skills_score                       234 non-null float64\n",
      "Founders_Entrepreneurship_skills_score      234 non-null float64\n",
      "Founders_Operations_skills_score            234 non-null float64\n",
      "Founders_Engineering_skills_score           234 non-null float64\n",
      "Founders_Marketing_skills_score             234 non-null float64\n",
      "Founders_Leadership_skills_score            234 non-null float64\n",
      "Founders_Data_Science_skills_score          234 non-null float64\n",
      "Founders_Business_Strategy_skills_score     234 non-null float64\n",
      "Founders_Product_Management_skills_score    234 non-null float64\n",
      "Founders_Sales_skills_score                 234 non-null float64\n",
      "Founders_Domain_skills_score                234 non-null float64\n",
      "Company_incubation_investor                 234 non-null object\n",
      "Company_competitor_count                    234 non-null int64\n",
      "Company_1st_investment_time                 234 non-null int64\n",
      "Company_avg_investment_time                 234 non-null float64\n",
      "Company_crowdsourcing                       234 non-null object\n",
      "Company_crowdfunding                        234 non-null object\n",
      "Company_big_data                            234 non-null object\n",
      "Company_analytics_score                     234 non-null int64\n",
      "Company_Product_or_service                  234 non-null object\n",
      "Company_subscription_offering               234 non-null object\n",
      "Founder_highest_degree_type                 234 non-null object\n",
      "Company_difficulty_obtaining_workforce      234 non-null object\n",
      "Company_Founder_Patent                      234 non-null object\n",
      "dtypes: float64(13), int64(12), object(26)\n",
      "memory usage: 93.3+ KB\n"
     ]
    }
   ],
   "source": [
    "train.info()"
   ]
  },
  {
   "cell_type": "markdown",
   "metadata": {},
   "source": [
    "There is no null value in train data "
   ]
  },
  {
   "cell_type": "code",
   "execution_count": 24,
   "metadata": {},
   "outputs": [
    {
     "name": "stdout",
     "output_type": "stream",
     "text": [
      "<class 'pandas.core.frame.DataFrame'>\n",
      "RangeIndex: 80 entries, 0 to 79\n",
      "Data columns (total 51 columns):\n",
      "CAX_ID                                      80 non-null object\n",
      "Dependent                                   0 non-null float64\n",
      "Company_Location                            80 non-null object\n",
      "Company_raising_fund                        80 non-null object\n",
      "Company_Industry_count                      80 non-null object\n",
      "Company_mobile_app                          80 non-null object\n",
      "Company_investor_count_seed                 80 non-null int64\n",
      "Company_investor_count_Angel_VC             80 non-null int64\n",
      "Company_cofounders_count                    80 non-null int64\n",
      "Company_advisors_count                      80 non-null int64\n",
      "Company_senior_team_count                   80 non-null int64\n",
      "Company_top_Angel_VC_funding                80 non-null object\n",
      "Company_repeat_investors_count              80 non-null int64\n",
      "Founders_top_company_experience             80 non-null object\n",
      "Founders_previous_company_employee_count    80 non-null object\n",
      "Founders_startup_experience                 80 non-null object\n",
      "Founders_big_5_experience                   80 non-null object\n",
      "Company_business_model                      80 non-null object\n",
      "Founders_experience                         80 non-null object\n",
      "Founders_global_exposure                    80 non-null object\n",
      "Founders_Industry_exposure                  80 non-null object\n",
      "Founder_education                           80 non-null object\n",
      "Founder_university_quality                  80 non-null int64\n",
      "Founders_Popularity                         80 non-null int64\n",
      "Founders_fortune1000_company_score          80 non-null float64\n",
      "Founders_profile_similarity                 80 non-null object\n",
      "Founders_publications                       80 non-null object\n",
      "Founders_skills_score                       80 non-null float64\n",
      "Founders_Entrepreneurship_skills_score      80 non-null float64\n",
      "Founders_Operations_skills_score            80 non-null float64\n",
      "Founders_Engineering_skills_score           80 non-null float64\n",
      "Founders_Marketing_skills_score             80 non-null float64\n",
      "Founders_Leadership_skills_score            80 non-null float64\n",
      "Founders_Data_Science_skills_score          80 non-null float64\n",
      "Founders_Business_Strategy_skills_score     80 non-null float64\n",
      "Founders_Product_Management_skills_score    80 non-null float64\n",
      "Founders_Sales_skills_score                 80 non-null float64\n",
      "Founders_Domain_skills_score                80 non-null float64\n",
      "Company_incubation_investor                 80 non-null object\n",
      "Company_competitor_count                    80 non-null int64\n",
      "Company_1st_investment_time                 80 non-null int64\n",
      "Company_avg_investment_time                 80 non-null float64\n",
      "Company_crowdsourcing                       80 non-null object\n",
      "Company_crowdfunding                        80 non-null object\n",
      "Company_big_data                            80 non-null object\n",
      "Company_analytics_score                     80 non-null int64\n",
      "Company_Product_or_service                  80 non-null object\n",
      "Company_subscription_offering               80 non-null object\n",
      "Founder_highest_degree_type                 80 non-null object\n",
      "Company_difficulty_obtaining_workforce      80 non-null object\n",
      "Company_Founder_Patent                      80 non-null object\n",
      "dtypes: float64(14), int64(11), object(26)\n",
      "memory usage: 32.0+ KB\n"
     ]
    }
   ],
   "source": [
    "test.info()"
   ]
  },
  {
   "cell_type": "markdown",
   "metadata": {},
   "source": [
    "There is no null value in test data "
   ]
  },
  {
   "cell_type": "markdown",
   "metadata": {},
   "source": [
    "## Data Visualization\n"
   ]
  },
  {
   "cell_type": "code",
   "execution_count": 25,
   "metadata": {},
   "outputs": [
    {
     "data": {
      "image/png": "[encoded data removed]",
      "text/plain": [
       "<Figure size 432x288 with 1 Axes>"
      ]
     },
     "metadata": {},
     "output_type": "display_data"
    }
   ],
   "source": [
    "sns.countplot(x='Dependent',data=train,palette='hls',color=[\"yellow\",\"blue\"])\n",
    "plt.savefig('count_plot')\n",
    "plt.show()"
   ]
  },
  {
   "cell_type": "code",
   "execution_count": 26,
   "metadata": {
    "scrolled": false
   },
   "outputs": [
    {
     "data": {
      "image/png": "[encoded data removed]",
      "text/plain": [
       "<Figure size 432x288 with 1 Axes>"
      ]
     },
     "metadata": {},
     "output_type": "display_data"
    }
   ],
   "source": [
    "pd.crosstab(train.Founders_startup_experience,train.Dependent).plot(kind='bar',color=[\"green\",\"red\"])\n",
    "plt.show()"
   ]
  },
  {
   "cell_type": "code",
   "execution_count": 33,
   "metadata": {
    "scrolled": true
   },
   "outputs": [
    {
     "data": {
      "image/png": "[encoded data removed]",
      "text/plain": [
       "<Figure size 432x288 with 1 Axes>"
      ]
     },
     "metadata": {},
     "output_type": "display_data"
    }
   ],
   "source": [
    "pd.crosstab(train.Company_analytics_score,train.Dependent).plot(kind='bar',color=[\"green\",\"red\"])\n",
    "plt.show()"
   ]
  },
  {
   "cell_type": "code",
   "execution_count": 34,
   "metadata": {},
   "outputs": [
    {
     "data": {
      "image/png": "[encoded data removed]",
      "text/plain": [
       "<Figure size 432x288 with 1 Axes>"
      ]
     },
     "metadata": {},
     "output_type": "display_data"
    }
   ],
   "source": [
    "train.Company_avg_investment_time.hist()\n",
    "plt.title('Histogram of Company_avg_investment_time')\n",
    "plt.xlabel('Company_avg_investment_time')\n",
    "plt.ylabel('Frequency')\n",
    "plt.savefig('hist_age')"
   ]
  },
  {
   "cell_type": "code",
   "execution_count": 35,
   "metadata": {
    "scrolled": true
   },
   "outputs": [
    {
     "data": {
      "image/png": "[encoded data removed]",
      "text/plain": [
       "<Figure size 432x288 with 1 Axes>"
      ]
     },
     "metadata": {},
     "output_type": "display_data"
    }
   ],
   "source": [
    "pd.crosstab(train.Company_Location,train.Dependent).plot(kind='bar',color=[\"green\",\"red\"])\n",
    "plt.show()"
   ]
  },
  {
   "cell_type": "markdown",
   "metadata": {},
   "source": [
    "## Data Engneering"
   ]
  },
  {
   "cell_type": "code",
   "execution_count": 30,
   "metadata": {},
   "outputs": [],
   "source": [
    "from sklearn.preprocessing import LabelEncoder\n",
    "lbl = LabelEncoder()"
   ]
  },
  {
   "cell_type": "code",
   "execution_count": 31,
   "metadata": {},
   "outputs": [],
   "source": [
    "cate_col=['CAX_ID', 'Company_Location', 'Company_raising_fund',\n",
    "       'Company_Industry_count', 'Company_mobile_app', 'Company_top_Angel_VC_funding', 'Founders_top_company_experience',\n",
    "       'Founders_previous_company_employee_count',\n",
    "       'Founders_startup_experience', 'Founders_big_5_experience',\n",
    "       'Company_business_model', 'Founders_experience',\n",
    "       'Founders_global_exposure', 'Founders_Industry_exposure',\n",
    "       'Founder_education', \n",
    "       'Founders_profile_similarity', 'Founders_publications',\n",
    "       'Company_incubation_investor', \n",
    "       'Company_crowdsourcing', 'Company_crowdfunding', 'Company_big_data', 'Company_Product_or_service',\n",
    "       'Company_subscription_offering', 'Founder_highest_degree_type',\n",
    "       'Company_difficulty_obtaining_workforce', 'Company_Founder_Patent']"
   ]
  },
  {
   "cell_type": "code",
   "execution_count": 32,
   "metadata": {},
   "outputs": [],
   "source": [
    "for i in cate_col:\n",
    "    train[i]=lbl.fit_transform(train[i])\n",
    "for i in cate_col:\n",
    "    test[i]=lbl.fit_transform(test[i])\n"
   ]
  },
  {
   "cell_type": "code",
   "execution_count": 16,
   "metadata": {},
   "outputs": [],
   "source": [
    "features=['Company_Location', 'Company_raising_fund',\n",
    "       'Company_Industry_count', 'Company_mobile_app',\n",
    "       'Company_investor_count_seed', 'Company_investor_count_Angel_VC',\n",
    "       'Company_cofounders_count', 'Company_advisors_count',\n",
    "       'Company_senior_team_count', 'Company_top_Angel_VC_funding',\n",
    "       'Company_repeat_investors_count', 'Founders_top_company_experience',\n",
    "       'Founders_previous_company_employee_count',\n",
    "       'Founders_startup_experience', 'Founders_big_5_experience',\n",
    "       'Company_business_model', 'Founders_experience',\n",
    "       'Founders_global_exposure', 'Founders_Industry_exposure',\n",
    "       'Founder_education', 'Founder_university_quality',\n",
    "       'Founders_Popularity', 'Founders_fortune1000_company_score',\n",
    "       'Founders_profile_similarity', 'Founders_publications',\n",
    "       'Founders_skills_score', 'Founders_Entrepreneurship_skills_score',\n",
    "       'Founders_Operations_skills_score', 'Founders_Engineering_skills_score',\n",
    "       'Founders_Marketing_skills_score', 'Founders_Leadership_skills_score',\n",
    "       'Founders_Data_Science_skills_score',\n",
    "       'Founders_Business_Strategy_skills_score',\n",
    "       'Founders_Product_Management_skills_score',\n",
    "       'Founders_Sales_skills_score', 'Founders_Domain_skills_score',\n",
    "       'Company_incubation_investor', 'Company_competitor_count',\n",
    "       'Company_1st_investment_time', 'Company_avg_investment_time',\n",
    "       'Company_crowdsourcing', 'Company_crowdfunding', 'Company_big_data',\n",
    "       'Company_analytics_score', 'Company_Product_or_service',\n",
    "       'Company_subscription_offering', 'Founder_highest_degree_type',\n",
    "       'Company_difficulty_obtaining_workforce', 'Company_Founder_Patent']"
   ]
  },
  {
   "cell_type": "code",
   "execution_count": 17,
   "metadata": {},
   "outputs": [],
   "source": [
    "new_train=train[features]\n",
    "new_test=test[features]"
   ]
  },
  {
   "cell_type": "code",
   "execution_count": 18,
   "metadata": {},
   "outputs": [],
   "source": [
    "X=new_train\n",
    "Y=train[[\"Dependent\"]]\n",
    "test=new_test"
   ]
  },
  {
   "cell_type": "markdown",
   "metadata": {},
   "source": [
    "### Features Selection"
   ]
  },
  {
   "cell_type": "code",
   "execution_count": 19,
   "metadata": {},
   "outputs": [
    {
     "data": {
      "text/html": [
       "<div>\n",
       "<style scoped>\n",
       "    .dataframe tbody tr th:only-of-type {\n",
       "        vertical-align: middle;\n",
       "    }\n",
       "\n",
       "    .dataframe tbody tr th {\n",
       "        vertical-align: top;\n",
       "    }\n",
       "\n",
       "    .dataframe thead th {\n",
       "        text-align: right;\n",
       "    }\n",
       "</style>\n",
       "<table border=\"1\" class=\"dataframe\">\n",
       "  <thead>\n",
       "    <tr style=\"text-align: right;\">\n",
       "      <th></th>\n",
       "      <th>Specs</th>\n",
       "      <th>Score</th>\n",
       "    </tr>\n",
       "  </thead>\n",
       "  <tbody>\n",
       "    <tr>\n",
       "      <th>28</th>\n",
       "      <td>Founders_Engineering_skills_score</td>\n",
       "      <td>104.385239</td>\n",
       "    </tr>\n",
       "    <tr>\n",
       "      <th>38</th>\n",
       "      <td>Company_1st_investment_time</td>\n",
       "      <td>90.883253</td>\n",
       "    </tr>\n",
       "    <tr>\n",
       "      <th>35</th>\n",
       "      <td>Founders_Domain_skills_score</td>\n",
       "      <td>61.748685</td>\n",
       "    </tr>\n",
       "    <tr>\n",
       "      <th>29</th>\n",
       "      <td>Founders_Marketing_skills_score</td>\n",
       "      <td>46.989996</td>\n",
       "    </tr>\n",
       "    <tr>\n",
       "      <th>39</th>\n",
       "      <td>Company_avg_investment_time</td>\n",
       "      <td>33.885853</td>\n",
       "    </tr>\n",
       "    <tr>\n",
       "      <th>8</th>\n",
       "      <td>Company_senior_team_count</td>\n",
       "      <td>30.565474</td>\n",
       "    </tr>\n",
       "    <tr>\n",
       "      <th>31</th>\n",
       "      <td>Founders_Data_Science_skills_score</td>\n",
       "      <td>28.395187</td>\n",
       "    </tr>\n",
       "    <tr>\n",
       "      <th>7</th>\n",
       "      <td>Company_advisors_count</td>\n",
       "      <td>27.860944</td>\n",
       "    </tr>\n",
       "    <tr>\n",
       "      <th>37</th>\n",
       "      <td>Company_competitor_count</td>\n",
       "      <td>18.325149</td>\n",
       "    </tr>\n",
       "    <tr>\n",
       "      <th>25</th>\n",
       "      <td>Founders_skills_score</td>\n",
       "      <td>15.188667</td>\n",
       "    </tr>\n",
       "    <tr>\n",
       "      <th>15</th>\n",
       "      <td>Company_business_model</td>\n",
       "      <td>9.537509</td>\n",
       "    </tr>\n",
       "    <tr>\n",
       "      <th>10</th>\n",
       "      <td>Company_repeat_investors_count</td>\n",
       "      <td>9.469599</td>\n",
       "    </tr>\n",
       "    <tr>\n",
       "      <th>6</th>\n",
       "      <td>Company_cofounders_count</td>\n",
       "      <td>3.791702</td>\n",
       "    </tr>\n",
       "    <tr>\n",
       "      <th>5</th>\n",
       "      <td>Company_investor_count_Angel_VC</td>\n",
       "      <td>3.758294</td>\n",
       "    </tr>\n",
       "    <tr>\n",
       "      <th>41</th>\n",
       "      <td>Company_crowdfunding</td>\n",
       "      <td>3.448364</td>\n",
       "    </tr>\n",
       "  </tbody>\n",
       "</table>\n",
       "</div>"
      ],
      "text/plain": [
       "                                 Specs       Score\n",
       "28   Founders_Engineering_skills_score  104.385239\n",
       "38         Company_1st_investment_time   90.883253\n",
       "35        Founders_Domain_skills_score   61.748685\n",
       "29     Founders_Marketing_skills_score   46.989996\n",
       "39         Company_avg_investment_time   33.885853\n",
       "8            Company_senior_team_count   30.565474\n",
       "31  Founders_Data_Science_skills_score   28.395187\n",
       "7               Company_advisors_count   27.860944\n",
       "37            Company_competitor_count   18.325149\n",
       "25               Founders_skills_score   15.188667\n",
       "15              Company_business_model    9.537509\n",
       "10      Company_repeat_investors_count    9.469599\n",
       "6             Company_cofounders_count    3.791702\n",
       "5      Company_investor_count_Angel_VC    3.758294\n",
       "41                Company_crowdfunding    3.448364"
      ]
     },
     "execution_count": 19,
     "metadata": {},
     "output_type": "execute_result"
    }
   ],
   "source": [
    "import pandas as pd\n",
    "import numpy as np\n",
    "from sklearn.feature_selection import SelectKBest\n",
    "from sklearn.feature_selection import chi2\n",
    "from sklearn.model_selection import train_test_split\n",
    "from sklearn.linear_model import LogisticRegression\n",
    "X_train, X_test, y_train, y_test = train_test_split(X, Y, test_size=0.33, random_state = 654487)\n",
    "#apply SelectKBest class to extract top 15 best features\n",
    "bestfeatures = SelectKBest(score_func=chi2, k=15)\n",
    "fit = bestfeatures.fit(X_train,y_train)\n",
    "dfscores = pd.DataFrame(fit.scores_)\n",
    "dfcolumns = pd.DataFrame(X.columns)\n",
    "#concat two dataframes for better visualization \n",
    "featureScores = pd.concat([dfcolumns,dfscores],axis=1)\n",
    "featureScores.columns = ['Specs','Score']  #naming the dataframe columns\n",
    "feature_selected=(featureScores.nlargest(15,'Score'))  #print 15 best features\n",
    "feature_selected"
   ]
  },
  {
   "cell_type": "markdown",
   "metadata": {},
   "source": [
    "THese 15 are importaant for prediction "
   ]
  },
  {
   "cell_type": "code",
   "execution_count": 1,
   "metadata": {},
   "outputs": [
    {
     "ename": "NameError",
     "evalue": "name 'np' is not defined",
     "output_type": "error",
     "traceback": [
      "\u001b[1;31m---------------------------------------------------------------------------\u001b[0m",
      "\u001b[1;31mNameError\u001b[0m                                 Traceback (most recent call last)",
      "\u001b[1;32m<ipython-input-1-24777720f22f>\u001b[0m in \u001b[0;36m<module>\u001b[1;34m()\u001b[0m\n\u001b[1;32m----> 1\u001b[1;33m \u001b[0mimp_features\u001b[0m\u001b[1;33m=\u001b[0m\u001b[0mnp\u001b[0m\u001b[1;33m.\u001b[0m\u001b[0marray\u001b[0m\u001b[1;33m(\u001b[0m\u001b[0mfeature_selected\u001b[0m\u001b[1;33m.\u001b[0m\u001b[0mSpecs\u001b[0m\u001b[1;33m)\u001b[0m\u001b[1;33m\u001b[0m\u001b[0m\n\u001b[0m",
      "\u001b[1;31mNameError\u001b[0m: name 'np' is not defined"
     ]
    }
   ],
   "source": [
    "imp_features=np.array(feature_selected.Specs)"
   ]
  },
  {
   "cell_type": "code",
   "execution_count": 70,
   "metadata": {},
   "outputs": [],
   "source": [
    "X1 = X[imp_features]\n",
    "Y1 = Y"
   ]
  },
  {
   "cell_type": "markdown",
   "metadata": {},
   "source": [
    "### Logistic Regression\n",
    "Using top 15 important features"
   ]
  },
  {
   "cell_type": "code",
   "execution_count": 71,
   "metadata": {},
   "outputs": [
    {
     "name": "stdout",
     "output_type": "stream",
     "text": [
      "Accuracy of logistic regression classifier on test set: 0.76\n"
     ]
    },
    {
     "name": "stderr",
     "output_type": "stream",
     "text": [
      "C:\\Users\\WIN10\\Anaconda3\\lib\\site-packages\\sklearn\\utils\\validation.py:73: DataConversionWarning: A column-vector y was passed when a 1d array was expected. Please change the shape of y to (n_samples, ), for example using ravel().\n",
      "  return f(**kwargs)\n"
     ]
    }
   ],
   "source": [
    "from sklearn.model_selection import train_test_split\n",
    "from sklearn.linear_model import LogisticRegression\n",
    "X_train, X_test, y_train, y_test = train_test_split(X1, Y, test_size=0.33, random_state = 245)\n",
    "LR = LogisticRegression(solver = 'liblinear')\n",
    "LR.fit(X_train, y_train)\n",
    "y_pred = LR.predict(X_test)\n",
    "print('Accuracy of logistic regression classifier on test set: {:.2f}'.format(LR.score(X_test, y_test)))"
   ]
  },
  {
   "cell_type": "markdown",
   "metadata": {},
   "source": [
    "### Evaluation of model\n",
    "Using ROC curve"
   ]
  },
  {
   "cell_type": "code",
   "execution_count": 72,
   "metadata": {},
   "outputs": [
    {
     "name": "stdout",
     "output_type": "stream",
     "text": [
      "Train/Test split results:\n",
      "LogisticRegression accuracy is 0.756\n",
      "LogisticRegression log_loss is 0.649\n",
      "LogisticRegression auc is 0.752\n"
     ]
    },
    {
     "data": {
      "image/png": "[encoded data removed]",
      "text/plain": [
       "<Figure size 432x288 with 1 Axes>"
      ]
     },
     "metadata": {},
     "output_type": "display_data"
    }
   ],
   "source": [
    "y_pred_proba = LR.predict_proba(X_test)[:, 1]\n",
    "[fpr, tpr, thr] = roc_curve(y_test, y_pred_proba)\n",
    "print('Train/Test split results:')\n",
    "print(LR.__class__.__name__+\" accuracy is %2.3f\" % accuracy_score(y_test, y_pred))\n",
    "print(LR.__class__.__name__+\" log_loss is %2.3f\" % log_loss(y_test, y_pred_proba))\n",
    "print(LR.__class__.__name__+\" auc is %2.3f\" % auc(fpr, tpr))\n",
    "\n",
    "idx = np.min(np.where(tpr > 0.95)) # index of the first threshold for which the sensibility > 0.95\n",
    "\n",
    "plt.figure()\n",
    "plt.plot(fpr, tpr, color='coral', label='ROC curve (area = %0.3f)' % auc(fpr, tpr))\n",
    "plt.plot([0, 1], [0, 1], 'k--')\n",
    "plt.plot([0,fpr[idx]], [tpr[idx],tpr[idx]], 'k--', color='blue')\n",
    "plt.plot([fpr[idx],fpr[idx]], [0,tpr[idx]], 'k--', color='blue')\n",
    "plt.xlim([0.0, 1.0])\n",
    "plt.ylim([0.0, 1.05])\n",
    "plt.xlabel('False Positive Rate (1 - specificity)', fontsize=14)\n",
    "plt.ylabel('True Positive Rate (recall)', fontsize=14)\n",
    "plt.title('Receiver operating characteristic (ROC) curve')\n",
    "plt.legend(loc=\"lower right\")\n",
    "plt.show()"
   ]
  },
  {
   "cell_type": "code",
   "execution_count": 73,
   "metadata": {},
   "outputs": [
    {
     "name": "stdout",
     "output_type": "stream",
     "text": [
      "[[29  9]\n",
      " [10 30]]\n"
     ]
    }
   ],
   "source": [
    "from sklearn.metrics import confusion_matrix\n",
    "confusion_matrix = confusion_matrix(y_test, y_pred)\n",
    "print(confusion_matrix)"
   ]
  },
  {
   "cell_type": "markdown",
   "metadata": {},
   "source": [
    "The result is telling us that we have 29+30 correct predictions and 10+9 incorrect predictions.\n"
   ]
  },
  {
   "cell_type": "code",
   "execution_count": 74,
   "metadata": {},
   "outputs": [
    {
     "name": "stdout",
     "output_type": "stream",
     "text": [
      "              precision    recall  f1-score   support\n",
      "\n",
      "           0       0.74      0.76      0.75        38\n",
      "           1       0.77      0.75      0.76        40\n",
      "\n",
      "    accuracy                           0.76        78\n",
      "   macro avg       0.76      0.76      0.76        78\n",
      "weighted avg       0.76      0.76      0.76        78\n",
      "\n"
     ]
    }
   ],
   "source": [
    "from sklearn.metrics import classification_report\n",
    "print(classification_report(y_test, y_pred))"
   ]
  },
  {
   "cell_type": "markdown",
   "metadata": {},
   "source": [
    "Interpretation: Of the entire test set, 76%  of a start-up comapnies is succesful."
   ]
  },
  {
   "cell_type": "markdown",
   "metadata": {},
   "source": [
    "### Now use this model for prediction of test data "
   ]
  },
  {
   "cell_type": "code",
   "execution_count": 23,
   "metadata": {},
   "outputs": [
    {
     "name": "stderr",
     "output_type": "stream",
     "text": [
      "C:\\Users\\Akash\\Anaconda3\\lib\\site-packages\\sklearn\\utils\\validation.py:744: DataConversionWarning: A column-vector y was passed when a 1d array was expected. Please change the shape of y to (n_samples, ), for example using ravel().\n",
      "  y = column_or_1d(y, warn=True)\n"
     ]
    }
   ],
   "source": [
    "from sklearn.model_selection import train_test_split\n",
    "from sklearn.linear_model import LogisticRegression\n",
    "X_train, X_test, y_train, y_test = train_test_split(new_train[imp_features], Y, test_size=0.33, random_state = 245)\n",
    "LR = LogisticRegression(solver = 'liblinear')\n",
    "LR.fit(X_train, y_train)\n",
    "y_pred = LR.predict(new_test[imp_features])"
   ]
  },
  {
   "cell_type": "code",
   "execution_count": 2,
   "metadata": {},
   "outputs": [
    {
     "ename": "NameError",
     "evalue": "name 'LR' is not defined",
     "output_type": "error",
     "traceback": [
      "\u001b[1;31m---------------------------------------------------------------------------\u001b[0m",
      "\u001b[1;31mNameError\u001b[0m                                 Traceback (most recent call last)",
      "\u001b[1;32m<ipython-input-2-719b1a6b5734>\u001b[0m in \u001b[0;36m<module>\u001b[1;34m()\u001b[0m\n\u001b[1;32m----> 1\u001b[1;33m \u001b[0mprob\u001b[0m\u001b[1;33m=\u001b[0m\u001b[0mLR\u001b[0m\u001b[1;33m.\u001b[0m\u001b[0mpredict_proba\u001b[0m\u001b[1;33m(\u001b[0m\u001b[0mnew_test\u001b[0m\u001b[1;33m[\u001b[0m\u001b[0mimp_features\u001b[0m\u001b[1;33m]\u001b[0m\u001b[1;33m)\u001b[0m\u001b[1;33m\u001b[0m\u001b[0m\n\u001b[0m\u001b[0;32m      2\u001b[0m \u001b[0mprob\u001b[0m\u001b[1;33m\u001b[0m\u001b[0m\n",
      "\u001b[1;31mNameError\u001b[0m: name 'LR' is not defined"
     ]
    }
   ],
   "source": [
    "prob=LR.predict_proba(new_test[imp_features])\n",
    "prob"
   ]
  },
  {
   "cell_type": "code",
   "execution_count": 1,
   "metadata": {},
   "outputs": [
    {
     "ename": "NameError",
     "evalue": "name 'prob' is not defined",
     "output_type": "error",
     "traceback": [
      "\u001b[1;31m---------------------------------------------------------------------------\u001b[0m",
      "\u001b[1;31mNameError\u001b[0m                                 Traceback (most recent call last)",
      "\u001b[1;32m<ipython-input-1-1ce7c70c3394>\u001b[0m in \u001b[0;36m<module>\u001b[1;34m()\u001b[0m\n\u001b[1;32m----> 1\u001b[1;33m \u001b[0mprob\u001b[0m\u001b[1;33m[\u001b[0m\u001b[1;36m0\u001b[0m\u001b[1;33m,\u001b[0m\u001b[1;33m:\u001b[0m\u001b[1;33m]\u001b[0m\u001b[1;33m\u001b[0m\u001b[0m\n\u001b[0m",
      "\u001b[1;31mNameError\u001b[0m: name 'prob' is not defined"
     ]
    }
   ],
   "source": [
    "prob[0,:]\n"
   ]
  },
  {
   "cell_type": "markdown",
   "metadata": {},
   "source": [
    " he array tells us that the model predicts for Company1  a chance of 59.58% percent that the sample belongs to the failure class, and a 40.41%  percent chance that the sample is  from class success "
   ]
  },
  {
   "cell_type": "code",
   "execution_count": 26,
   "metadata": {},
   "outputs": [
    {
     "data": {
      "text/html": [
       "<div>\n",
       "<style scoped>\n",
       "    .dataframe tbody tr th:only-of-type {\n",
       "        vertical-align: middle;\n",
       "    }\n",
       "\n",
       "    .dataframe tbody tr th {\n",
       "        vertical-align: top;\n",
       "    }\n",
       "\n",
       "    .dataframe thead th {\n",
       "        text-align: right;\n",
       "    }\n",
       "</style>\n",
       "<table border=\"1\" class=\"dataframe\">\n",
       "  <thead>\n",
       "    <tr style=\"text-align: right;\">\n",
       "      <th></th>\n",
       "      <th>CAX_ID</th>\n",
       "      <th>Dependent</th>\n",
       "    </tr>\n",
       "  </thead>\n",
       "  <tbody>\n",
       "    <tr>\n",
       "      <td>0</td>\n",
       "      <td>Company1</td>\n",
       "      <td>0</td>\n",
       "    </tr>\n",
       "    <tr>\n",
       "      <td>1</td>\n",
       "      <td>Company4</td>\n",
       "      <td>0</td>\n",
       "    </tr>\n",
       "    <tr>\n",
       "      <td>2</td>\n",
       "      <td>Company7</td>\n",
       "      <td>1</td>\n",
       "    </tr>\n",
       "    <tr>\n",
       "      <td>3</td>\n",
       "      <td>Company10</td>\n",
       "      <td>0</td>\n",
       "    </tr>\n",
       "    <tr>\n",
       "      <td>4</td>\n",
       "      <td>Company12</td>\n",
       "      <td>1</td>\n",
       "    </tr>\n",
       "    <tr>\n",
       "      <td>...</td>\n",
       "      <td>...</td>\n",
       "      <td>...</td>\n",
       "    </tr>\n",
       "    <tr>\n",
       "      <td>75</td>\n",
       "      <td>Company312</td>\n",
       "      <td>0</td>\n",
       "    </tr>\n",
       "    <tr>\n",
       "      <td>76</td>\n",
       "      <td>Company288</td>\n",
       "      <td>0</td>\n",
       "    </tr>\n",
       "    <tr>\n",
       "      <td>77</td>\n",
       "      <td>Company293</td>\n",
       "      <td>0</td>\n",
       "    </tr>\n",
       "    <tr>\n",
       "      <td>78</td>\n",
       "      <td>Company300</td>\n",
       "      <td>0</td>\n",
       "    </tr>\n",
       "    <tr>\n",
       "      <td>79</td>\n",
       "      <td>Company304</td>\n",
       "      <td>0</td>\n",
       "    </tr>\n",
       "  </tbody>\n",
       "</table>\n",
       "<p>80 rows × 2 columns</p>\n",
       "</div>"
      ],
      "text/plain": [
       "        CAX_ID  Dependent\n",
       "0     Company1          0\n",
       "1     Company4          0\n",
       "2     Company7          1\n",
       "3    Company10          0\n",
       "4    Company12          1\n",
       "..         ...        ...\n",
       "75  Company312          0\n",
       "76  Company288          0\n",
       "77  Company293          0\n",
       "78  Company300          0\n",
       "79  Company304          0\n",
       "\n",
       "[80 rows x 2 columns]"
      ]
     },
     "execution_count": 26,
     "metadata": {},
     "output_type": "execute_result"
    }
   ],
   "source": [
    "submission=pd.DataFrame(test1[\"CAX_ID\"])\n",
    "submission[\"Dependent\"]=y_pred\n",
    "submission                         "
   ]
  },
  {
   "cell_type": "code",
   "execution_count": 27,
   "metadata": {},
   "outputs": [
    {
     "name": "stdout",
     "output_type": "stream",
     "text": [
      "(80, 2)\n"
     ]
    }
   ],
   "source": [
    "submission.to_csv(\"submission.csv\", index=False)\n",
    "print(submission.shape)"
   ]
  },
  {
   "cell_type": "code",
   "execution_count": null,
   "metadata": {},
   "outputs": [],
   "source": []
  },
  {
   "cell_type": "code",
   "execution_count": null,
   "metadata": {},
   "outputs": [],
   "source": []
  },
  {
   "cell_type": "code",
   "execution_count": null,
   "metadata": {},
   "outputs": [],
   "source": []
  }
 ],
 "metadata": {
  "kernelspec": {
   "display_name": "Python 3",
   "language": "python",
   "name": "python3"
  },
  "language_info": {
   "codemirror_mode": {
    "name": "ipython",
    "version": 3
   },
   "file_extension": ".py",
   "mimetype": "text/x-python",
   "name": "python",
   "nbconvert_exporter": "python",
   "pygments_lexer": "ipython3",
   "version": "3.8.3"
  }
 },
 "nbformat": 4,
 "nbformat_minor": 2
}
